{
 "cells": [
  {
   "cell_type": "markdown",
   "metadata": {},
   "source": [
    "# Basics"
   ]
  },
  {
   "cell_type": "markdown",
   "metadata": {},
   "source": [
    "1) Import pandas and numpy"
   ]
  },
  {
   "cell_type": "code",
   "execution_count": 1,
   "metadata": {},
   "outputs": [],
   "source": [
    "import numpy as np\n",
    "import pandas as pd"
   ]
  },
  {
   "cell_type": "markdown",
   "metadata": {},
   "source": [
    "2) Use the code below to generate a data frame for students"
   ]
  },
  {
   "cell_type": "code",
   "execution_count": 2,
   "metadata": {},
   "outputs": [],
   "source": [
    "students = ['Sally', 'Jane', 'Suzie', 'Billy', 'Ada', 'John', 'Thomas',\n",
    "            'Marie', 'Albert', 'Richard', 'Isaac', 'Alan']\n",
    "\n",
    "student_number = list(range(1, len(students) + 1))\n",
    "shoe_sizes = np.random.choice(np.arange(6, 14, 0.5), len(students))\n",
    "side_of_classroom = np.random.choice(['left', 'right'], len(students))\n",
    "favorite_number = np.random.randint(1, 11, len(students))"
   ]
  },
  {
   "cell_type": "markdown",
   "metadata": {},
   "source": [
    "    Your data frame should include the student number, student name, shoe_size, and favorite number.\n",
    "\n",
    "    Store your data frame in a variable named students"
   ]
  },
  {
   "cell_type": "code",
   "execution_count": 4,
   "metadata": {},
   "outputs": [
    {
     "data": {
      "text/html": [
       "<div>\n",
       "<style scoped>\n",
       "    .dataframe tbody tr th:only-of-type {\n",
       "        vertical-align: middle;\n",
       "    }\n",
       "\n",
       "    .dataframe tbody tr th {\n",
       "        vertical-align: top;\n",
       "    }\n",
       "\n",
       "    .dataframe thead th {\n",
       "        text-align: right;\n",
       "    }\n",
       "</style>\n",
       "<table border=\"1\" class=\"dataframe\">\n",
       "  <thead>\n",
       "    <tr style=\"text-align: right;\">\n",
       "      <th></th>\n",
       "      <th>student_name</th>\n",
       "      <th>student_number</th>\n",
       "      <th>shoe_size</th>\n",
       "      <th>favorite_number</th>\n",
       "      <th>room_side</th>\n",
       "    </tr>\n",
       "  </thead>\n",
       "  <tbody>\n",
       "    <tr>\n",
       "      <th>0</th>\n",
       "      <td>Sally</td>\n",
       "      <td>1</td>\n",
       "      <td>12.5</td>\n",
       "      <td>10</td>\n",
       "      <td>right</td>\n",
       "    </tr>\n",
       "    <tr>\n",
       "      <th>1</th>\n",
       "      <td>Jane</td>\n",
       "      <td>2</td>\n",
       "      <td>13.5</td>\n",
       "      <td>1</td>\n",
       "      <td>right</td>\n",
       "    </tr>\n",
       "    <tr>\n",
       "      <th>2</th>\n",
       "      <td>Suzie</td>\n",
       "      <td>3</td>\n",
       "      <td>7.0</td>\n",
       "      <td>7</td>\n",
       "      <td>left</td>\n",
       "    </tr>\n",
       "    <tr>\n",
       "      <th>3</th>\n",
       "      <td>Billy</td>\n",
       "      <td>4</td>\n",
       "      <td>6.5</td>\n",
       "      <td>2</td>\n",
       "      <td>right</td>\n",
       "    </tr>\n",
       "    <tr>\n",
       "      <th>4</th>\n",
       "      <td>Ada</td>\n",
       "      <td>5</td>\n",
       "      <td>7.5</td>\n",
       "      <td>8</td>\n",
       "      <td>right</td>\n",
       "    </tr>\n",
       "    <tr>\n",
       "      <th>5</th>\n",
       "      <td>John</td>\n",
       "      <td>6</td>\n",
       "      <td>7.0</td>\n",
       "      <td>9</td>\n",
       "      <td>left</td>\n",
       "    </tr>\n",
       "    <tr>\n",
       "      <th>6</th>\n",
       "      <td>Thomas</td>\n",
       "      <td>7</td>\n",
       "      <td>6.5</td>\n",
       "      <td>3</td>\n",
       "      <td>left</td>\n",
       "    </tr>\n",
       "    <tr>\n",
       "      <th>7</th>\n",
       "      <td>Marie</td>\n",
       "      <td>8</td>\n",
       "      <td>6.0</td>\n",
       "      <td>3</td>\n",
       "      <td>right</td>\n",
       "    </tr>\n",
       "    <tr>\n",
       "      <th>8</th>\n",
       "      <td>Albert</td>\n",
       "      <td>9</td>\n",
       "      <td>10.0</td>\n",
       "      <td>5</td>\n",
       "      <td>right</td>\n",
       "    </tr>\n",
       "    <tr>\n",
       "      <th>9</th>\n",
       "      <td>Richard</td>\n",
       "      <td>10</td>\n",
       "      <td>10.0</td>\n",
       "      <td>4</td>\n",
       "      <td>right</td>\n",
       "    </tr>\n",
       "    <tr>\n",
       "      <th>10</th>\n",
       "      <td>Isaac</td>\n",
       "      <td>11</td>\n",
       "      <td>11.5</td>\n",
       "      <td>7</td>\n",
       "      <td>right</td>\n",
       "    </tr>\n",
       "    <tr>\n",
       "      <th>11</th>\n",
       "      <td>Alan</td>\n",
       "      <td>12</td>\n",
       "      <td>13.0</td>\n",
       "      <td>6</td>\n",
       "      <td>left</td>\n",
       "    </tr>\n",
       "  </tbody>\n",
       "</table>\n",
       "</div>"
      ],
      "text/plain": [
       "   student_name  student_number  shoe_size  favorite_number room_side\n",
       "0         Sally               1       12.5               10     right\n",
       "1          Jane               2       13.5                1     right\n",
       "2         Suzie               3        7.0                7      left\n",
       "3         Billy               4        6.5                2     right\n",
       "4           Ada               5        7.5                8     right\n",
       "5          John               6        7.0                9      left\n",
       "6        Thomas               7        6.5                3      left\n",
       "7         Marie               8        6.0                3     right\n",
       "8        Albert               9       10.0                5     right\n",
       "9       Richard              10       10.0                4     right\n",
       "10        Isaac              11       11.5                7     right\n",
       "11         Alan              12       13.0                6      left"
      ]
     },
     "execution_count": 4,
     "metadata": {},
     "output_type": "execute_result"
    }
   ],
   "source": [
    "students = pd.DataFrame({'student_name':students,\n",
    "                   'student_number':student_number,\n",
    "                   'shoe_size':shoe_sizes,\n",
    "                   'favorite_number':favorite_number,\n",
    "                   'room_side':side_of_classroom})\n",
    "\n",
    "students"
   ]
  },
  {
   "cell_type": "markdown",
   "metadata": {},
   "source": [
    "3) Print out the shape of the data frame."
   ]
  },
  {
   "cell_type": "code",
   "execution_count": 5,
   "metadata": {},
   "outputs": [
    {
     "data": {
      "text/plain": [
       "(12, 5)"
      ]
     },
     "execution_count": 5,
     "metadata": {},
     "output_type": "execute_result"
    }
   ],
   "source": [
    "students.shape"
   ]
  },
  {
   "cell_type": "markdown",
   "metadata": {},
   "source": [
    "4) Print out the names of the columns in the data frame."
   ]
  },
  {
   "cell_type": "code",
   "execution_count": 6,
   "metadata": {},
   "outputs": [
    {
     "data": {
      "text/plain": [
       "Index(['student_name', 'student_number', 'shoe_size', 'favorite_number',\n",
       "       'room_side'],\n",
       "      dtype='object')"
      ]
     },
     "execution_count": 6,
     "metadata": {},
     "output_type": "execute_result"
    }
   ],
   "source": [
    "students.columns"
   ]
  },
  {
   "cell_type": "markdown",
   "metadata": {},
   "source": [
    "5) Rename 2 of the columns in your data frame."
   ]
  },
  {
   "cell_type": "code",
   "execution_count": 7,
   "metadata": {},
   "outputs": [
    {
     "data": {
      "text/html": [
       "<div>\n",
       "<style scoped>\n",
       "    .dataframe tbody tr th:only-of-type {\n",
       "        vertical-align: middle;\n",
       "    }\n",
       "\n",
       "    .dataframe tbody tr th {\n",
       "        vertical-align: top;\n",
       "    }\n",
       "\n",
       "    .dataframe thead th {\n",
       "        text-align: right;\n",
       "    }\n",
       "</style>\n",
       "<table border=\"1\" class=\"dataframe\">\n",
       "  <thead>\n",
       "    <tr style=\"text-align: right;\">\n",
       "      <th></th>\n",
       "      <th>student_name</th>\n",
       "      <th>id</th>\n",
       "      <th>shoe_size</th>\n",
       "      <th>fave_num</th>\n",
       "      <th>room_side</th>\n",
       "    </tr>\n",
       "  </thead>\n",
       "  <tbody>\n",
       "    <tr>\n",
       "      <th>0</th>\n",
       "      <td>Sally</td>\n",
       "      <td>1</td>\n",
       "      <td>12.5</td>\n",
       "      <td>10</td>\n",
       "      <td>right</td>\n",
       "    </tr>\n",
       "    <tr>\n",
       "      <th>1</th>\n",
       "      <td>Jane</td>\n",
       "      <td>2</td>\n",
       "      <td>13.5</td>\n",
       "      <td>1</td>\n",
       "      <td>right</td>\n",
       "    </tr>\n",
       "    <tr>\n",
       "      <th>2</th>\n",
       "      <td>Suzie</td>\n",
       "      <td>3</td>\n",
       "      <td>7.0</td>\n",
       "      <td>7</td>\n",
       "      <td>left</td>\n",
       "    </tr>\n",
       "    <tr>\n",
       "      <th>3</th>\n",
       "      <td>Billy</td>\n",
       "      <td>4</td>\n",
       "      <td>6.5</td>\n",
       "      <td>2</td>\n",
       "      <td>right</td>\n",
       "    </tr>\n",
       "    <tr>\n",
       "      <th>4</th>\n",
       "      <td>Ada</td>\n",
       "      <td>5</td>\n",
       "      <td>7.5</td>\n",
       "      <td>8</td>\n",
       "      <td>right</td>\n",
       "    </tr>\n",
       "    <tr>\n",
       "      <th>5</th>\n",
       "      <td>John</td>\n",
       "      <td>6</td>\n",
       "      <td>7.0</td>\n",
       "      <td>9</td>\n",
       "      <td>left</td>\n",
       "    </tr>\n",
       "    <tr>\n",
       "      <th>6</th>\n",
       "      <td>Thomas</td>\n",
       "      <td>7</td>\n",
       "      <td>6.5</td>\n",
       "      <td>3</td>\n",
       "      <td>left</td>\n",
       "    </tr>\n",
       "    <tr>\n",
       "      <th>7</th>\n",
       "      <td>Marie</td>\n",
       "      <td>8</td>\n",
       "      <td>6.0</td>\n",
       "      <td>3</td>\n",
       "      <td>right</td>\n",
       "    </tr>\n",
       "    <tr>\n",
       "      <th>8</th>\n",
       "      <td>Albert</td>\n",
       "      <td>9</td>\n",
       "      <td>10.0</td>\n",
       "      <td>5</td>\n",
       "      <td>right</td>\n",
       "    </tr>\n",
       "    <tr>\n",
       "      <th>9</th>\n",
       "      <td>Richard</td>\n",
       "      <td>10</td>\n",
       "      <td>10.0</td>\n",
       "      <td>4</td>\n",
       "      <td>right</td>\n",
       "    </tr>\n",
       "    <tr>\n",
       "      <th>10</th>\n",
       "      <td>Isaac</td>\n",
       "      <td>11</td>\n",
       "      <td>11.5</td>\n",
       "      <td>7</td>\n",
       "      <td>right</td>\n",
       "    </tr>\n",
       "    <tr>\n",
       "      <th>11</th>\n",
       "      <td>Alan</td>\n",
       "      <td>12</td>\n",
       "      <td>13.0</td>\n",
       "      <td>6</td>\n",
       "      <td>left</td>\n",
       "    </tr>\n",
       "  </tbody>\n",
       "</table>\n",
       "</div>"
      ],
      "text/plain": [
       "   student_name  id  shoe_size  fave_num room_side\n",
       "0         Sally   1       12.5        10     right\n",
       "1          Jane   2       13.5         1     right\n",
       "2         Suzie   3        7.0         7      left\n",
       "3         Billy   4        6.5         2     right\n",
       "4           Ada   5        7.5         8     right\n",
       "5          John   6        7.0         9      left\n",
       "6        Thomas   7        6.5         3      left\n",
       "7         Marie   8        6.0         3     right\n",
       "8        Albert   9       10.0         5     right\n",
       "9       Richard  10       10.0         4     right\n",
       "10        Isaac  11       11.5         7     right\n",
       "11         Alan  12       13.0         6      left"
      ]
     },
     "execution_count": 7,
     "metadata": {},
     "output_type": "execute_result"
    }
   ],
   "source": [
    "students.rename(columns = {'student_number':'id', 'favorite_number':'fave_num'}, inplace=True)\n",
    "students"
   ]
  },
  {
   "cell_type": "markdown",
   "metadata": {},
   "source": [
    "6) Create a new data frame based on the one you have. The new data frame should only have columns for shoe size and side of the classroom."
   ]
  },
  {
   "cell_type": "code",
   "execution_count": 8,
   "metadata": {},
   "outputs": [
    {
     "data": {
      "text/html": [
       "<div>\n",
       "<style scoped>\n",
       "    .dataframe tbody tr th:only-of-type {\n",
       "        vertical-align: middle;\n",
       "    }\n",
       "\n",
       "    .dataframe tbody tr th {\n",
       "        vertical-align: top;\n",
       "    }\n",
       "\n",
       "    .dataframe thead th {\n",
       "        text-align: right;\n",
       "    }\n",
       "</style>\n",
       "<table border=\"1\" class=\"dataframe\">\n",
       "  <thead>\n",
       "    <tr style=\"text-align: right;\">\n",
       "      <th></th>\n",
       "      <th>shoe_size</th>\n",
       "      <th>room_side</th>\n",
       "    </tr>\n",
       "  </thead>\n",
       "  <tbody>\n",
       "    <tr>\n",
       "      <th>0</th>\n",
       "      <td>12.5</td>\n",
       "      <td>right</td>\n",
       "    </tr>\n",
       "    <tr>\n",
       "      <th>1</th>\n",
       "      <td>13.5</td>\n",
       "      <td>right</td>\n",
       "    </tr>\n",
       "    <tr>\n",
       "      <th>2</th>\n",
       "      <td>7.0</td>\n",
       "      <td>left</td>\n",
       "    </tr>\n",
       "    <tr>\n",
       "      <th>3</th>\n",
       "      <td>6.5</td>\n",
       "      <td>right</td>\n",
       "    </tr>\n",
       "    <tr>\n",
       "      <th>4</th>\n",
       "      <td>7.5</td>\n",
       "      <td>right</td>\n",
       "    </tr>\n",
       "    <tr>\n",
       "      <th>5</th>\n",
       "      <td>7.0</td>\n",
       "      <td>left</td>\n",
       "    </tr>\n",
       "    <tr>\n",
       "      <th>6</th>\n",
       "      <td>6.5</td>\n",
       "      <td>left</td>\n",
       "    </tr>\n",
       "    <tr>\n",
       "      <th>7</th>\n",
       "      <td>6.0</td>\n",
       "      <td>right</td>\n",
       "    </tr>\n",
       "    <tr>\n",
       "      <th>8</th>\n",
       "      <td>10.0</td>\n",
       "      <td>right</td>\n",
       "    </tr>\n",
       "    <tr>\n",
       "      <th>9</th>\n",
       "      <td>10.0</td>\n",
       "      <td>right</td>\n",
       "    </tr>\n",
       "    <tr>\n",
       "      <th>10</th>\n",
       "      <td>11.5</td>\n",
       "      <td>right</td>\n",
       "    </tr>\n",
       "    <tr>\n",
       "      <th>11</th>\n",
       "      <td>13.0</td>\n",
       "      <td>left</td>\n",
       "    </tr>\n",
       "  </tbody>\n",
       "</table>\n",
       "</div>"
      ],
      "text/plain": [
       "    shoe_size room_side\n",
       "0        12.5     right\n",
       "1        13.5     right\n",
       "2         7.0      left\n",
       "3         6.5     right\n",
       "4         7.5     right\n",
       "5         7.0      left\n",
       "6         6.5      left\n",
       "7         6.0     right\n",
       "8        10.0     right\n",
       "9        10.0     right\n",
       "10       11.5     right\n",
       "11       13.0      left"
      ]
     },
     "execution_count": 8,
     "metadata": {},
     "output_type": "execute_result"
    }
   ],
   "source": [
    "# shoe_side_students = pd.DataFrame({'shoe_size':shoe_sizes,\n",
    "#                                    'room_side':side_of_classroom})\n",
    "# shoe_side_students\n",
    "\n",
    "students[['shoe_size', 'room_side']]"
   ]
  },
  {
   "cell_type": "markdown",
   "metadata": {},
   "source": [
    "7) Create a new data frame that has all of the columns, but only 5 rows."
   ]
  },
  {
   "cell_type": "code",
   "execution_count": 9,
   "metadata": {},
   "outputs": [
    {
     "data": {
      "text/html": [
       "<div>\n",
       "<style scoped>\n",
       "    .dataframe tbody tr th:only-of-type {\n",
       "        vertical-align: middle;\n",
       "    }\n",
       "\n",
       "    .dataframe tbody tr th {\n",
       "        vertical-align: top;\n",
       "    }\n",
       "\n",
       "    .dataframe thead th {\n",
       "        text-align: right;\n",
       "    }\n",
       "</style>\n",
       "<table border=\"1\" class=\"dataframe\">\n",
       "  <thead>\n",
       "    <tr style=\"text-align: right;\">\n",
       "      <th></th>\n",
       "      <th>student_name</th>\n",
       "      <th>id</th>\n",
       "      <th>shoe_size</th>\n",
       "      <th>fave_num</th>\n",
       "      <th>room_side</th>\n",
       "    </tr>\n",
       "  </thead>\n",
       "  <tbody>\n",
       "    <tr>\n",
       "      <th>0</th>\n",
       "      <td>Sally</td>\n",
       "      <td>1</td>\n",
       "      <td>12.5</td>\n",
       "      <td>10</td>\n",
       "      <td>right</td>\n",
       "    </tr>\n",
       "    <tr>\n",
       "      <th>1</th>\n",
       "      <td>Jane</td>\n",
       "      <td>2</td>\n",
       "      <td>13.5</td>\n",
       "      <td>1</td>\n",
       "      <td>right</td>\n",
       "    </tr>\n",
       "    <tr>\n",
       "      <th>2</th>\n",
       "      <td>Suzie</td>\n",
       "      <td>3</td>\n",
       "      <td>7.0</td>\n",
       "      <td>7</td>\n",
       "      <td>left</td>\n",
       "    </tr>\n",
       "    <tr>\n",
       "      <th>3</th>\n",
       "      <td>Billy</td>\n",
       "      <td>4</td>\n",
       "      <td>6.5</td>\n",
       "      <td>2</td>\n",
       "      <td>right</td>\n",
       "    </tr>\n",
       "    <tr>\n",
       "      <th>4</th>\n",
       "      <td>Ada</td>\n",
       "      <td>5</td>\n",
       "      <td>7.5</td>\n",
       "      <td>8</td>\n",
       "      <td>right</td>\n",
       "    </tr>\n",
       "  </tbody>\n",
       "</table>\n",
       "</div>"
      ],
      "text/plain": [
       "  student_name  id  shoe_size  fave_num room_side\n",
       "0        Sally   1       12.5        10     right\n",
       "1         Jane   2       13.5         1     right\n",
       "2        Suzie   3        7.0         7      left\n",
       "3        Billy   4        6.5         2     right\n",
       "4          Ada   5        7.5         8     right"
      ]
     },
     "execution_count": 9,
     "metadata": {},
     "output_type": "execute_result"
    }
   ],
   "source": [
    "students.head(5)"
   ]
  },
  {
   "cell_type": "markdown",
   "metadata": {},
   "source": [
    "8) Create a new data frame that has only columns for favorite number and name, and only includes 7 rows."
   ]
  },
  {
   "cell_type": "code",
   "execution_count": 10,
   "metadata": {},
   "outputs": [
    {
     "data": {
      "text/html": [
       "<div>\n",
       "<style scoped>\n",
       "    .dataframe tbody tr th:only-of-type {\n",
       "        vertical-align: middle;\n",
       "    }\n",
       "\n",
       "    .dataframe tbody tr th {\n",
       "        vertical-align: top;\n",
       "    }\n",
       "\n",
       "    .dataframe thead th {\n",
       "        text-align: right;\n",
       "    }\n",
       "</style>\n",
       "<table border=\"1\" class=\"dataframe\">\n",
       "  <thead>\n",
       "    <tr style=\"text-align: right;\">\n",
       "      <th></th>\n",
       "      <th>fave_num</th>\n",
       "      <th>student_name</th>\n",
       "    </tr>\n",
       "  </thead>\n",
       "  <tbody>\n",
       "    <tr>\n",
       "      <th>0</th>\n",
       "      <td>10</td>\n",
       "      <td>Sally</td>\n",
       "    </tr>\n",
       "    <tr>\n",
       "      <th>1</th>\n",
       "      <td>1</td>\n",
       "      <td>Jane</td>\n",
       "    </tr>\n",
       "    <tr>\n",
       "      <th>2</th>\n",
       "      <td>7</td>\n",
       "      <td>Suzie</td>\n",
       "    </tr>\n",
       "    <tr>\n",
       "      <th>3</th>\n",
       "      <td>2</td>\n",
       "      <td>Billy</td>\n",
       "    </tr>\n",
       "    <tr>\n",
       "      <th>4</th>\n",
       "      <td>8</td>\n",
       "      <td>Ada</td>\n",
       "    </tr>\n",
       "    <tr>\n",
       "      <th>5</th>\n",
       "      <td>9</td>\n",
       "      <td>John</td>\n",
       "    </tr>\n",
       "    <tr>\n",
       "      <th>6</th>\n",
       "      <td>3</td>\n",
       "      <td>Thomas</td>\n",
       "    </tr>\n",
       "  </tbody>\n",
       "</table>\n",
       "</div>"
      ],
      "text/plain": [
       "   fave_num student_name\n",
       "0        10        Sally\n",
       "1         1         Jane\n",
       "2         7        Suzie\n",
       "3         2        Billy\n",
       "4         8          Ada\n",
       "5         9         John\n",
       "6         3       Thomas"
      ]
     },
     "execution_count": 10,
     "metadata": {},
     "output_type": "execute_result"
    }
   ],
   "source": [
    "students[['fave_num', 'student_name']].head(7)"
   ]
  },
  {
   "cell_type": "markdown",
   "metadata": {},
   "source": [
    "9) Create a new column for the ratio of shoe size to the favorite number. Name this ss_to_fn"
   ]
  },
  {
   "cell_type": "code",
   "execution_count": 12,
   "metadata": {},
   "outputs": [
    {
     "data": {
      "text/html": [
       "<div>\n",
       "<style scoped>\n",
       "    .dataframe tbody tr th:only-of-type {\n",
       "        vertical-align: middle;\n",
       "    }\n",
       "\n",
       "    .dataframe tbody tr th {\n",
       "        vertical-align: top;\n",
       "    }\n",
       "\n",
       "    .dataframe thead th {\n",
       "        text-align: right;\n",
       "    }\n",
       "</style>\n",
       "<table border=\"1\" class=\"dataframe\">\n",
       "  <thead>\n",
       "    <tr style=\"text-align: right;\">\n",
       "      <th></th>\n",
       "      <th>student_name</th>\n",
       "      <th>id</th>\n",
       "      <th>shoe_size</th>\n",
       "      <th>fave_num</th>\n",
       "      <th>room_side</th>\n",
       "      <th>ss_to_fn</th>\n",
       "    </tr>\n",
       "  </thead>\n",
       "  <tbody>\n",
       "    <tr>\n",
       "      <th>0</th>\n",
       "      <td>Sally</td>\n",
       "      <td>1</td>\n",
       "      <td>12.5</td>\n",
       "      <td>10</td>\n",
       "      <td>right</td>\n",
       "      <td>1.250000</td>\n",
       "    </tr>\n",
       "    <tr>\n",
       "      <th>1</th>\n",
       "      <td>Jane</td>\n",
       "      <td>2</td>\n",
       "      <td>13.5</td>\n",
       "      <td>1</td>\n",
       "      <td>right</td>\n",
       "      <td>13.500000</td>\n",
       "    </tr>\n",
       "    <tr>\n",
       "      <th>2</th>\n",
       "      <td>Suzie</td>\n",
       "      <td>3</td>\n",
       "      <td>7.0</td>\n",
       "      <td>7</td>\n",
       "      <td>left</td>\n",
       "      <td>1.000000</td>\n",
       "    </tr>\n",
       "    <tr>\n",
       "      <th>3</th>\n",
       "      <td>Billy</td>\n",
       "      <td>4</td>\n",
       "      <td>6.5</td>\n",
       "      <td>2</td>\n",
       "      <td>right</td>\n",
       "      <td>3.250000</td>\n",
       "    </tr>\n",
       "    <tr>\n",
       "      <th>4</th>\n",
       "      <td>Ada</td>\n",
       "      <td>5</td>\n",
       "      <td>7.5</td>\n",
       "      <td>8</td>\n",
       "      <td>right</td>\n",
       "      <td>0.937500</td>\n",
       "    </tr>\n",
       "    <tr>\n",
       "      <th>5</th>\n",
       "      <td>John</td>\n",
       "      <td>6</td>\n",
       "      <td>7.0</td>\n",
       "      <td>9</td>\n",
       "      <td>left</td>\n",
       "      <td>0.777778</td>\n",
       "    </tr>\n",
       "    <tr>\n",
       "      <th>6</th>\n",
       "      <td>Thomas</td>\n",
       "      <td>7</td>\n",
       "      <td>6.5</td>\n",
       "      <td>3</td>\n",
       "      <td>left</td>\n",
       "      <td>2.166667</td>\n",
       "    </tr>\n",
       "    <tr>\n",
       "      <th>7</th>\n",
       "      <td>Marie</td>\n",
       "      <td>8</td>\n",
       "      <td>6.0</td>\n",
       "      <td>3</td>\n",
       "      <td>right</td>\n",
       "      <td>2.000000</td>\n",
       "    </tr>\n",
       "    <tr>\n",
       "      <th>8</th>\n",
       "      <td>Albert</td>\n",
       "      <td>9</td>\n",
       "      <td>10.0</td>\n",
       "      <td>5</td>\n",
       "      <td>right</td>\n",
       "      <td>2.000000</td>\n",
       "    </tr>\n",
       "    <tr>\n",
       "      <th>9</th>\n",
       "      <td>Richard</td>\n",
       "      <td>10</td>\n",
       "      <td>10.0</td>\n",
       "      <td>4</td>\n",
       "      <td>right</td>\n",
       "      <td>2.500000</td>\n",
       "    </tr>\n",
       "    <tr>\n",
       "      <th>10</th>\n",
       "      <td>Isaac</td>\n",
       "      <td>11</td>\n",
       "      <td>11.5</td>\n",
       "      <td>7</td>\n",
       "      <td>right</td>\n",
       "      <td>1.642857</td>\n",
       "    </tr>\n",
       "    <tr>\n",
       "      <th>11</th>\n",
       "      <td>Alan</td>\n",
       "      <td>12</td>\n",
       "      <td>13.0</td>\n",
       "      <td>6</td>\n",
       "      <td>left</td>\n",
       "      <td>2.166667</td>\n",
       "    </tr>\n",
       "  </tbody>\n",
       "</table>\n",
       "</div>"
      ],
      "text/plain": [
       "   student_name  id  shoe_size  fave_num room_side   ss_to_fn\n",
       "0         Sally   1       12.5        10     right   1.250000\n",
       "1          Jane   2       13.5         1     right  13.500000\n",
       "2         Suzie   3        7.0         7      left   1.000000\n",
       "3         Billy   4        6.5         2     right   3.250000\n",
       "4           Ada   5        7.5         8     right   0.937500\n",
       "5          John   6        7.0         9      left   0.777778\n",
       "6        Thomas   7        6.5         3      left   2.166667\n",
       "7         Marie   8        6.0         3     right   2.000000\n",
       "8        Albert   9       10.0         5     right   2.000000\n",
       "9       Richard  10       10.0         4     right   2.500000\n",
       "10        Isaac  11       11.5         7     right   1.642857\n",
       "11         Alan  12       13.0         6      left   2.166667"
      ]
     },
     "execution_count": 12,
     "metadata": {},
     "output_type": "execute_result"
    }
   ],
   "source": [
    "size_to_num = students.shoe_size/students.fave_num\n",
    "students['ss_to_fn'] = size_to_num\n",
    "students"
   ]
  },
  {
   "cell_type": "markdown",
   "metadata": {},
   "source": [
    "10) Create a new column that contains the z-score for the shoe size."
   ]
  },
  {
   "cell_type": "code",
   "execution_count": 13,
   "metadata": {},
   "outputs": [
    {
     "data": {
      "text/html": [
       "<div>\n",
       "<style scoped>\n",
       "    .dataframe tbody tr th:only-of-type {\n",
       "        vertical-align: middle;\n",
       "    }\n",
       "\n",
       "    .dataframe tbody tr th {\n",
       "        vertical-align: top;\n",
       "    }\n",
       "\n",
       "    .dataframe thead th {\n",
       "        text-align: right;\n",
       "    }\n",
       "</style>\n",
       "<table border=\"1\" class=\"dataframe\">\n",
       "  <thead>\n",
       "    <tr style=\"text-align: right;\">\n",
       "      <th></th>\n",
       "      <th>student_name</th>\n",
       "      <th>id</th>\n",
       "      <th>shoe_size</th>\n",
       "      <th>fave_num</th>\n",
       "      <th>room_side</th>\n",
       "      <th>ss_to_fn</th>\n",
       "      <th>z_score</th>\n",
       "    </tr>\n",
       "  </thead>\n",
       "  <tbody>\n",
       "    <tr>\n",
       "      <th>0</th>\n",
       "      <td>Sally</td>\n",
       "      <td>1</td>\n",
       "      <td>12.5</td>\n",
       "      <td>10</td>\n",
       "      <td>right</td>\n",
       "      <td>1.250000</td>\n",
       "      <td>1.150684</td>\n",
       "    </tr>\n",
       "    <tr>\n",
       "      <th>1</th>\n",
       "      <td>Jane</td>\n",
       "      <td>2</td>\n",
       "      <td>13.5</td>\n",
       "      <td>1</td>\n",
       "      <td>right</td>\n",
       "      <td>13.500000</td>\n",
       "      <td>1.504741</td>\n",
       "    </tr>\n",
       "    <tr>\n",
       "      <th>2</th>\n",
       "      <td>Suzie</td>\n",
       "      <td>3</td>\n",
       "      <td>7.0</td>\n",
       "      <td>7</td>\n",
       "      <td>left</td>\n",
       "      <td>1.000000</td>\n",
       "      <td>-0.796628</td>\n",
       "    </tr>\n",
       "    <tr>\n",
       "      <th>3</th>\n",
       "      <td>Billy</td>\n",
       "      <td>4</td>\n",
       "      <td>6.5</td>\n",
       "      <td>2</td>\n",
       "      <td>right</td>\n",
       "      <td>3.250000</td>\n",
       "      <td>-0.973656</td>\n",
       "    </tr>\n",
       "    <tr>\n",
       "      <th>4</th>\n",
       "      <td>Ada</td>\n",
       "      <td>5</td>\n",
       "      <td>7.5</td>\n",
       "      <td>8</td>\n",
       "      <td>right</td>\n",
       "      <td>0.937500</td>\n",
       "      <td>-0.619599</td>\n",
       "    </tr>\n",
       "    <tr>\n",
       "      <th>5</th>\n",
       "      <td>John</td>\n",
       "      <td>6</td>\n",
       "      <td>7.0</td>\n",
       "      <td>9</td>\n",
       "      <td>left</td>\n",
       "      <td>0.777778</td>\n",
       "      <td>-0.796628</td>\n",
       "    </tr>\n",
       "    <tr>\n",
       "      <th>6</th>\n",
       "      <td>Thomas</td>\n",
       "      <td>7</td>\n",
       "      <td>6.5</td>\n",
       "      <td>3</td>\n",
       "      <td>left</td>\n",
       "      <td>2.166667</td>\n",
       "      <td>-0.973656</td>\n",
       "    </tr>\n",
       "    <tr>\n",
       "      <th>7</th>\n",
       "      <td>Marie</td>\n",
       "      <td>8</td>\n",
       "      <td>6.0</td>\n",
       "      <td>3</td>\n",
       "      <td>right</td>\n",
       "      <td>2.000000</td>\n",
       "      <td>-1.150684</td>\n",
       "    </tr>\n",
       "    <tr>\n",
       "      <th>8</th>\n",
       "      <td>Albert</td>\n",
       "      <td>9</td>\n",
       "      <td>10.0</td>\n",
       "      <td>5</td>\n",
       "      <td>right</td>\n",
       "      <td>2.000000</td>\n",
       "      <td>0.265543</td>\n",
       "    </tr>\n",
       "    <tr>\n",
       "      <th>9</th>\n",
       "      <td>Richard</td>\n",
       "      <td>10</td>\n",
       "      <td>10.0</td>\n",
       "      <td>4</td>\n",
       "      <td>right</td>\n",
       "      <td>2.500000</td>\n",
       "      <td>0.265543</td>\n",
       "    </tr>\n",
       "    <tr>\n",
       "      <th>10</th>\n",
       "      <td>Isaac</td>\n",
       "      <td>11</td>\n",
       "      <td>11.5</td>\n",
       "      <td>7</td>\n",
       "      <td>right</td>\n",
       "      <td>1.642857</td>\n",
       "      <td>0.796628</td>\n",
       "    </tr>\n",
       "    <tr>\n",
       "      <th>11</th>\n",
       "      <td>Alan</td>\n",
       "      <td>12</td>\n",
       "      <td>13.0</td>\n",
       "      <td>6</td>\n",
       "      <td>left</td>\n",
       "      <td>2.166667</td>\n",
       "      <td>1.327713</td>\n",
       "    </tr>\n",
       "  </tbody>\n",
       "</table>\n",
       "</div>"
      ],
      "text/plain": [
       "   student_name  id  shoe_size  fave_num room_side   ss_to_fn   z_score\n",
       "0         Sally   1       12.5        10     right   1.250000  1.150684\n",
       "1          Jane   2       13.5         1     right  13.500000  1.504741\n",
       "2         Suzie   3        7.0         7      left   1.000000 -0.796628\n",
       "3         Billy   4        6.5         2     right   3.250000 -0.973656\n",
       "4           Ada   5        7.5         8     right   0.937500 -0.619599\n",
       "5          John   6        7.0         9      left   0.777778 -0.796628\n",
       "6        Thomas   7        6.5         3      left   2.166667 -0.973656\n",
       "7         Marie   8        6.0         3     right   2.000000 -1.150684\n",
       "8        Albert   9       10.0         5     right   2.000000  0.265543\n",
       "9       Richard  10       10.0         4     right   2.500000  0.265543\n",
       "10        Isaac  11       11.5         7     right   1.642857  0.796628\n",
       "11         Alan  12       13.0         6      left   2.166667  1.327713"
      ]
     },
     "execution_count": 13,
     "metadata": {},
     "output_type": "execute_result"
    }
   ],
   "source": [
    "mean_shoe = students.shoe_size.mean()\n",
    "std_shoe = students.shoe_size.std()\n",
    "z = (students.shoe_size - mean_shoe)/std_shoe\n",
    "students['z_score'] = z\n",
    "students"
   ]
  },
  {
   "cell_type": "markdown",
   "metadata": {},
   "source": [
    "11) Transform the side_of_the_classroom columns such that the values are either R or L."
   ]
  },
  {
   "cell_type": "code",
   "execution_count": 14,
   "metadata": {},
   "outputs": [
    {
     "data": {
      "text/plain": [
       "0     R\n",
       "1     R\n",
       "2     L\n",
       "3     R\n",
       "4     R\n",
       "5     L\n",
       "6     L\n",
       "7     R\n",
       "8     R\n",
       "9     R\n",
       "10    R\n",
       "11    L\n",
       "Name: room_side, dtype: object"
      ]
     },
     "execution_count": 14,
     "metadata": {},
     "output_type": "execute_result"
    }
   ],
   "source": [
    "def rl_room(side):\n",
    "    if side == 'right':\n",
    "        return 'R'\n",
    "    else:\n",
    "        return 'L'\n",
    "students.room_side.apply(rl_room)"
   ]
  },
  {
   "cell_type": "markdown",
   "metadata": {},
   "source": [
    "12) Find the names of all the students that have a shoe size greater than the 3rd quartile of shoe sizes (You can use the `.quantile` method on a series for this)"
   ]
  },
  {
   "cell_type": "code",
   "execution_count": 15,
   "metadata": {},
   "outputs": [
    {
     "data": {
      "text/plain": [
       "0     Sally\n",
       "1      Jane\n",
       "11     Alan\n",
       "Name: student_name, dtype: object"
      ]
     },
     "execution_count": 15,
     "metadata": {},
     "output_type": "execute_result"
    }
   ],
   "source": [
    "min_size = students.shoe_size.quantile(.75)\n",
    "    \n",
    "students.loc[students['shoe_size'] > min_size, 'student_name']"
   ]
  },
  {
   "cell_type": "markdown",
   "metadata": {},
   "source": [
    "13) Find the names of all the students that have a shoe size less than the 1st quartile of shoe sizes"
   ]
  },
  {
   "cell_type": "code",
   "execution_count": 17,
   "metadata": {},
   "outputs": [
    {
     "data": {
      "text/plain": [
       "3     Billy\n",
       "6    Thomas\n",
       "7     Marie\n",
       "Name: student_name, dtype: object"
      ]
     },
     "execution_count": 17,
     "metadata": {},
     "output_type": "execute_result"
    }
   ],
   "source": [
    "max_size = students.shoe_size.quantile(.25)\n",
    "    \n",
    "students.loc[students['shoe_size'] < max_size, 'student_name']"
   ]
  },
  {
   "cell_type": "markdown",
   "metadata": {},
   "source": [
    "# Aggregation and plotting"
   ]
  },
  {
   "cell_type": "code",
   "execution_count": 18,
   "metadata": {},
   "outputs": [
    {
     "data": {
      "text/html": [
       "<div>\n",
       "<style scoped>\n",
       "    .dataframe tbody tr th:only-of-type {\n",
       "        vertical-align: middle;\n",
       "    }\n",
       "\n",
       "    .dataframe tbody tr th {\n",
       "        vertical-align: top;\n",
       "    }\n",
       "\n",
       "    .dataframe thead th {\n",
       "        text-align: right;\n",
       "    }\n",
       "</style>\n",
       "<table border=\"1\" class=\"dataframe\">\n",
       "  <thead>\n",
       "    <tr style=\"text-align: right;\">\n",
       "      <th></th>\n",
       "      <th>student_name</th>\n",
       "      <th>id</th>\n",
       "      <th>shoe_size</th>\n",
       "      <th>fave_num</th>\n",
       "      <th>room_side</th>\n",
       "      <th>ss_to_fn</th>\n",
       "      <th>z_score</th>\n",
       "    </tr>\n",
       "  </thead>\n",
       "  <tbody>\n",
       "    <tr>\n",
       "      <th>0</th>\n",
       "      <td>Sally</td>\n",
       "      <td>1</td>\n",
       "      <td>12.5</td>\n",
       "      <td>10</td>\n",
       "      <td>right</td>\n",
       "      <td>1.250000</td>\n",
       "      <td>1.150684</td>\n",
       "    </tr>\n",
       "    <tr>\n",
       "      <th>1</th>\n",
       "      <td>Jane</td>\n",
       "      <td>2</td>\n",
       "      <td>13.5</td>\n",
       "      <td>1</td>\n",
       "      <td>right</td>\n",
       "      <td>13.500000</td>\n",
       "      <td>1.504741</td>\n",
       "    </tr>\n",
       "    <tr>\n",
       "      <th>2</th>\n",
       "      <td>Suzie</td>\n",
       "      <td>3</td>\n",
       "      <td>7.0</td>\n",
       "      <td>7</td>\n",
       "      <td>left</td>\n",
       "      <td>1.000000</td>\n",
       "      <td>-0.796628</td>\n",
       "    </tr>\n",
       "    <tr>\n",
       "      <th>3</th>\n",
       "      <td>Billy</td>\n",
       "      <td>4</td>\n",
       "      <td>6.5</td>\n",
       "      <td>2</td>\n",
       "      <td>right</td>\n",
       "      <td>3.250000</td>\n",
       "      <td>-0.973656</td>\n",
       "    </tr>\n",
       "    <tr>\n",
       "      <th>4</th>\n",
       "      <td>Ada</td>\n",
       "      <td>5</td>\n",
       "      <td>7.5</td>\n",
       "      <td>8</td>\n",
       "      <td>right</td>\n",
       "      <td>0.937500</td>\n",
       "      <td>-0.619599</td>\n",
       "    </tr>\n",
       "    <tr>\n",
       "      <th>5</th>\n",
       "      <td>John</td>\n",
       "      <td>6</td>\n",
       "      <td>7.0</td>\n",
       "      <td>9</td>\n",
       "      <td>left</td>\n",
       "      <td>0.777778</td>\n",
       "      <td>-0.796628</td>\n",
       "    </tr>\n",
       "    <tr>\n",
       "      <th>6</th>\n",
       "      <td>Thomas</td>\n",
       "      <td>7</td>\n",
       "      <td>6.5</td>\n",
       "      <td>3</td>\n",
       "      <td>left</td>\n",
       "      <td>2.166667</td>\n",
       "      <td>-0.973656</td>\n",
       "    </tr>\n",
       "    <tr>\n",
       "      <th>7</th>\n",
       "      <td>Marie</td>\n",
       "      <td>8</td>\n",
       "      <td>6.0</td>\n",
       "      <td>3</td>\n",
       "      <td>right</td>\n",
       "      <td>2.000000</td>\n",
       "      <td>-1.150684</td>\n",
       "    </tr>\n",
       "    <tr>\n",
       "      <th>8</th>\n",
       "      <td>Albert</td>\n",
       "      <td>9</td>\n",
       "      <td>10.0</td>\n",
       "      <td>5</td>\n",
       "      <td>right</td>\n",
       "      <td>2.000000</td>\n",
       "      <td>0.265543</td>\n",
       "    </tr>\n",
       "    <tr>\n",
       "      <th>9</th>\n",
       "      <td>Richard</td>\n",
       "      <td>10</td>\n",
       "      <td>10.0</td>\n",
       "      <td>4</td>\n",
       "      <td>right</td>\n",
       "      <td>2.500000</td>\n",
       "      <td>0.265543</td>\n",
       "    </tr>\n",
       "    <tr>\n",
       "      <th>10</th>\n",
       "      <td>Isaac</td>\n",
       "      <td>11</td>\n",
       "      <td>11.5</td>\n",
       "      <td>7</td>\n",
       "      <td>right</td>\n",
       "      <td>1.642857</td>\n",
       "      <td>0.796628</td>\n",
       "    </tr>\n",
       "    <tr>\n",
       "      <th>11</th>\n",
       "      <td>Alan</td>\n",
       "      <td>12</td>\n",
       "      <td>13.0</td>\n",
       "      <td>6</td>\n",
       "      <td>left</td>\n",
       "      <td>2.166667</td>\n",
       "      <td>1.327713</td>\n",
       "    </tr>\n",
       "  </tbody>\n",
       "</table>\n",
       "</div>"
      ],
      "text/plain": [
       "   student_name  id  shoe_size  fave_num room_side   ss_to_fn   z_score\n",
       "0         Sally   1       12.5        10     right   1.250000  1.150684\n",
       "1          Jane   2       13.5         1     right  13.500000  1.504741\n",
       "2         Suzie   3        7.0         7      left   1.000000 -0.796628\n",
       "3         Billy   4        6.5         2     right   3.250000 -0.973656\n",
       "4           Ada   5        7.5         8     right   0.937500 -0.619599\n",
       "5          John   6        7.0         9      left   0.777778 -0.796628\n",
       "6        Thomas   7        6.5         3      left   2.166667 -0.973656\n",
       "7         Marie   8        6.0         3     right   2.000000 -1.150684\n",
       "8        Albert   9       10.0         5     right   2.000000  0.265543\n",
       "9       Richard  10       10.0         4     right   2.500000  0.265543\n",
       "10        Isaac  11       11.5         7     right   1.642857  0.796628\n",
       "11         Alan  12       13.0         6      left   2.166667  1.327713"
      ]
     },
     "execution_count": 18,
     "metadata": {},
     "output_type": "execute_result"
    }
   ],
   "source": [
    "students"
   ]
  },
  {
   "cell_type": "markdown",
   "metadata": {},
   "source": [
    "1) Calculate the mean, median, min, and max for the shoe sizes and favorite numbers"
   ]
  },
  {
   "cell_type": "code",
   "execution_count": 20,
   "metadata": {
    "scrolled": true
   },
   "outputs": [
    {
     "data": {
      "text/html": [
       "<div>\n",
       "<style scoped>\n",
       "    .dataframe tbody tr th:only-of-type {\n",
       "        vertical-align: middle;\n",
       "    }\n",
       "\n",
       "    .dataframe tbody tr th {\n",
       "        vertical-align: top;\n",
       "    }\n",
       "\n",
       "    .dataframe thead th {\n",
       "        text-align: right;\n",
       "    }\n",
       "</style>\n",
       "<table border=\"1\" class=\"dataframe\">\n",
       "  <thead>\n",
       "    <tr style=\"text-align: right;\">\n",
       "      <th></th>\n",
       "      <th>shoe_size</th>\n",
       "      <th>fave_num</th>\n",
       "    </tr>\n",
       "  </thead>\n",
       "  <tbody>\n",
       "    <tr>\n",
       "      <th>mean</th>\n",
       "      <td>9.25</td>\n",
       "      <td>5.416667</td>\n",
       "    </tr>\n",
       "    <tr>\n",
       "      <th>median</th>\n",
       "      <td>8.75</td>\n",
       "      <td>5.500000</td>\n",
       "    </tr>\n",
       "    <tr>\n",
       "      <th>min</th>\n",
       "      <td>6.00</td>\n",
       "      <td>1.000000</td>\n",
       "    </tr>\n",
       "    <tr>\n",
       "      <th>max</th>\n",
       "      <td>13.50</td>\n",
       "      <td>10.000000</td>\n",
       "    </tr>\n",
       "  </tbody>\n",
       "</table>\n",
       "</div>"
      ],
      "text/plain": [
       "        shoe_size   fave_num\n",
       "mean         9.25   5.416667\n",
       "median       8.75   5.500000\n",
       "min          6.00   1.000000\n",
       "max         13.50  10.000000"
      ]
     },
     "execution_count": 20,
     "metadata": {},
     "output_type": "execute_result"
    }
   ],
   "source": [
    "students[['shoe_size', 'fave_num']].agg(['mean', 'median', 'min', 'max'])"
   ]
  },
  {
   "cell_type": "markdown",
   "metadata": {},
   "source": [
    "2) Sort the data frame by the students shoe size"
   ]
  },
  {
   "cell_type": "code",
   "execution_count": 21,
   "metadata": {},
   "outputs": [
    {
     "data": {
      "text/html": [
       "<div>\n",
       "<style scoped>\n",
       "    .dataframe tbody tr th:only-of-type {\n",
       "        vertical-align: middle;\n",
       "    }\n",
       "\n",
       "    .dataframe tbody tr th {\n",
       "        vertical-align: top;\n",
       "    }\n",
       "\n",
       "    .dataframe thead th {\n",
       "        text-align: right;\n",
       "    }\n",
       "</style>\n",
       "<table border=\"1\" class=\"dataframe\">\n",
       "  <thead>\n",
       "    <tr style=\"text-align: right;\">\n",
       "      <th></th>\n",
       "      <th>student_name</th>\n",
       "      <th>id</th>\n",
       "      <th>shoe_size</th>\n",
       "      <th>fave_num</th>\n",
       "      <th>room_side</th>\n",
       "      <th>ss_to_fn</th>\n",
       "      <th>z_score</th>\n",
       "    </tr>\n",
       "  </thead>\n",
       "  <tbody>\n",
       "    <tr>\n",
       "      <th>7</th>\n",
       "      <td>Marie</td>\n",
       "      <td>8</td>\n",
       "      <td>6.0</td>\n",
       "      <td>3</td>\n",
       "      <td>right</td>\n",
       "      <td>2.000000</td>\n",
       "      <td>-1.150684</td>\n",
       "    </tr>\n",
       "    <tr>\n",
       "      <th>3</th>\n",
       "      <td>Billy</td>\n",
       "      <td>4</td>\n",
       "      <td>6.5</td>\n",
       "      <td>2</td>\n",
       "      <td>right</td>\n",
       "      <td>3.250000</td>\n",
       "      <td>-0.973656</td>\n",
       "    </tr>\n",
       "    <tr>\n",
       "      <th>6</th>\n",
       "      <td>Thomas</td>\n",
       "      <td>7</td>\n",
       "      <td>6.5</td>\n",
       "      <td>3</td>\n",
       "      <td>left</td>\n",
       "      <td>2.166667</td>\n",
       "      <td>-0.973656</td>\n",
       "    </tr>\n",
       "    <tr>\n",
       "      <th>2</th>\n",
       "      <td>Suzie</td>\n",
       "      <td>3</td>\n",
       "      <td>7.0</td>\n",
       "      <td>7</td>\n",
       "      <td>left</td>\n",
       "      <td>1.000000</td>\n",
       "      <td>-0.796628</td>\n",
       "    </tr>\n",
       "    <tr>\n",
       "      <th>5</th>\n",
       "      <td>John</td>\n",
       "      <td>6</td>\n",
       "      <td>7.0</td>\n",
       "      <td>9</td>\n",
       "      <td>left</td>\n",
       "      <td>0.777778</td>\n",
       "      <td>-0.796628</td>\n",
       "    </tr>\n",
       "    <tr>\n",
       "      <th>4</th>\n",
       "      <td>Ada</td>\n",
       "      <td>5</td>\n",
       "      <td>7.5</td>\n",
       "      <td>8</td>\n",
       "      <td>right</td>\n",
       "      <td>0.937500</td>\n",
       "      <td>-0.619599</td>\n",
       "    </tr>\n",
       "    <tr>\n",
       "      <th>8</th>\n",
       "      <td>Albert</td>\n",
       "      <td>9</td>\n",
       "      <td>10.0</td>\n",
       "      <td>5</td>\n",
       "      <td>right</td>\n",
       "      <td>2.000000</td>\n",
       "      <td>0.265543</td>\n",
       "    </tr>\n",
       "    <tr>\n",
       "      <th>9</th>\n",
       "      <td>Richard</td>\n",
       "      <td>10</td>\n",
       "      <td>10.0</td>\n",
       "      <td>4</td>\n",
       "      <td>right</td>\n",
       "      <td>2.500000</td>\n",
       "      <td>0.265543</td>\n",
       "    </tr>\n",
       "    <tr>\n",
       "      <th>10</th>\n",
       "      <td>Isaac</td>\n",
       "      <td>11</td>\n",
       "      <td>11.5</td>\n",
       "      <td>7</td>\n",
       "      <td>right</td>\n",
       "      <td>1.642857</td>\n",
       "      <td>0.796628</td>\n",
       "    </tr>\n",
       "    <tr>\n",
       "      <th>0</th>\n",
       "      <td>Sally</td>\n",
       "      <td>1</td>\n",
       "      <td>12.5</td>\n",
       "      <td>10</td>\n",
       "      <td>right</td>\n",
       "      <td>1.250000</td>\n",
       "      <td>1.150684</td>\n",
       "    </tr>\n",
       "    <tr>\n",
       "      <th>11</th>\n",
       "      <td>Alan</td>\n",
       "      <td>12</td>\n",
       "      <td>13.0</td>\n",
       "      <td>6</td>\n",
       "      <td>left</td>\n",
       "      <td>2.166667</td>\n",
       "      <td>1.327713</td>\n",
       "    </tr>\n",
       "    <tr>\n",
       "      <th>1</th>\n",
       "      <td>Jane</td>\n",
       "      <td>2</td>\n",
       "      <td>13.5</td>\n",
       "      <td>1</td>\n",
       "      <td>right</td>\n",
       "      <td>13.500000</td>\n",
       "      <td>1.504741</td>\n",
       "    </tr>\n",
       "  </tbody>\n",
       "</table>\n",
       "</div>"
      ],
      "text/plain": [
       "   student_name  id  shoe_size  fave_num room_side   ss_to_fn   z_score\n",
       "7         Marie   8        6.0         3     right   2.000000 -1.150684\n",
       "3         Billy   4        6.5         2     right   3.250000 -0.973656\n",
       "6        Thomas   7        6.5         3      left   2.166667 -0.973656\n",
       "2         Suzie   3        7.0         7      left   1.000000 -0.796628\n",
       "5          John   6        7.0         9      left   0.777778 -0.796628\n",
       "4           Ada   5        7.5         8     right   0.937500 -0.619599\n",
       "8        Albert   9       10.0         5     right   2.000000  0.265543\n",
       "9       Richard  10       10.0         4     right   2.500000  0.265543\n",
       "10        Isaac  11       11.5         7     right   1.642857  0.796628\n",
       "0         Sally   1       12.5        10     right   1.250000  1.150684\n",
       "11         Alan  12       13.0         6      left   2.166667  1.327713\n",
       "1          Jane   2       13.5         1     right  13.500000  1.504741"
      ]
     },
     "execution_count": 21,
     "metadata": {},
     "output_type": "execute_result"
    }
   ],
   "source": [
    "students.sort_values(by='shoe_size')"
   ]
  },
  {
   "cell_type": "markdown",
   "metadata": {},
   "source": [
    "3) Sort the data frame by the side of the classroom, then by their student number"
   ]
  },
  {
   "cell_type": "code",
   "execution_count": 23,
   "metadata": {},
   "outputs": [
    {
     "data": {
      "text/html": [
       "<div>\n",
       "<style scoped>\n",
       "    .dataframe tbody tr th:only-of-type {\n",
       "        vertical-align: middle;\n",
       "    }\n",
       "\n",
       "    .dataframe tbody tr th {\n",
       "        vertical-align: top;\n",
       "    }\n",
       "\n",
       "    .dataframe thead th {\n",
       "        text-align: right;\n",
       "    }\n",
       "</style>\n",
       "<table border=\"1\" class=\"dataframe\">\n",
       "  <thead>\n",
       "    <tr style=\"text-align: right;\">\n",
       "      <th></th>\n",
       "      <th>student_name</th>\n",
       "      <th>id</th>\n",
       "      <th>shoe_size</th>\n",
       "      <th>fave_num</th>\n",
       "      <th>room_side</th>\n",
       "      <th>ss_to_fn</th>\n",
       "      <th>z_score</th>\n",
       "    </tr>\n",
       "  </thead>\n",
       "  <tbody>\n",
       "    <tr>\n",
       "      <th>2</th>\n",
       "      <td>Suzie</td>\n",
       "      <td>3</td>\n",
       "      <td>7.0</td>\n",
       "      <td>7</td>\n",
       "      <td>left</td>\n",
       "      <td>1.000000</td>\n",
       "      <td>-0.796628</td>\n",
       "    </tr>\n",
       "    <tr>\n",
       "      <th>5</th>\n",
       "      <td>John</td>\n",
       "      <td>6</td>\n",
       "      <td>7.0</td>\n",
       "      <td>9</td>\n",
       "      <td>left</td>\n",
       "      <td>0.777778</td>\n",
       "      <td>-0.796628</td>\n",
       "    </tr>\n",
       "    <tr>\n",
       "      <th>6</th>\n",
       "      <td>Thomas</td>\n",
       "      <td>7</td>\n",
       "      <td>6.5</td>\n",
       "      <td>3</td>\n",
       "      <td>left</td>\n",
       "      <td>2.166667</td>\n",
       "      <td>-0.973656</td>\n",
       "    </tr>\n",
       "    <tr>\n",
       "      <th>11</th>\n",
       "      <td>Alan</td>\n",
       "      <td>12</td>\n",
       "      <td>13.0</td>\n",
       "      <td>6</td>\n",
       "      <td>left</td>\n",
       "      <td>2.166667</td>\n",
       "      <td>1.327713</td>\n",
       "    </tr>\n",
       "    <tr>\n",
       "      <th>0</th>\n",
       "      <td>Sally</td>\n",
       "      <td>1</td>\n",
       "      <td>12.5</td>\n",
       "      <td>10</td>\n",
       "      <td>right</td>\n",
       "      <td>1.250000</td>\n",
       "      <td>1.150684</td>\n",
       "    </tr>\n",
       "    <tr>\n",
       "      <th>1</th>\n",
       "      <td>Jane</td>\n",
       "      <td>2</td>\n",
       "      <td>13.5</td>\n",
       "      <td>1</td>\n",
       "      <td>right</td>\n",
       "      <td>13.500000</td>\n",
       "      <td>1.504741</td>\n",
       "    </tr>\n",
       "    <tr>\n",
       "      <th>3</th>\n",
       "      <td>Billy</td>\n",
       "      <td>4</td>\n",
       "      <td>6.5</td>\n",
       "      <td>2</td>\n",
       "      <td>right</td>\n",
       "      <td>3.250000</td>\n",
       "      <td>-0.973656</td>\n",
       "    </tr>\n",
       "    <tr>\n",
       "      <th>4</th>\n",
       "      <td>Ada</td>\n",
       "      <td>5</td>\n",
       "      <td>7.5</td>\n",
       "      <td>8</td>\n",
       "      <td>right</td>\n",
       "      <td>0.937500</td>\n",
       "      <td>-0.619599</td>\n",
       "    </tr>\n",
       "    <tr>\n",
       "      <th>7</th>\n",
       "      <td>Marie</td>\n",
       "      <td>8</td>\n",
       "      <td>6.0</td>\n",
       "      <td>3</td>\n",
       "      <td>right</td>\n",
       "      <td>2.000000</td>\n",
       "      <td>-1.150684</td>\n",
       "    </tr>\n",
       "    <tr>\n",
       "      <th>8</th>\n",
       "      <td>Albert</td>\n",
       "      <td>9</td>\n",
       "      <td>10.0</td>\n",
       "      <td>5</td>\n",
       "      <td>right</td>\n",
       "      <td>2.000000</td>\n",
       "      <td>0.265543</td>\n",
       "    </tr>\n",
       "    <tr>\n",
       "      <th>9</th>\n",
       "      <td>Richard</td>\n",
       "      <td>10</td>\n",
       "      <td>10.0</td>\n",
       "      <td>4</td>\n",
       "      <td>right</td>\n",
       "      <td>2.500000</td>\n",
       "      <td>0.265543</td>\n",
       "    </tr>\n",
       "    <tr>\n",
       "      <th>10</th>\n",
       "      <td>Isaac</td>\n",
       "      <td>11</td>\n",
       "      <td>11.5</td>\n",
       "      <td>7</td>\n",
       "      <td>right</td>\n",
       "      <td>1.642857</td>\n",
       "      <td>0.796628</td>\n",
       "    </tr>\n",
       "  </tbody>\n",
       "</table>\n",
       "</div>"
      ],
      "text/plain": [
       "   student_name  id  shoe_size  fave_num room_side   ss_to_fn   z_score\n",
       "2         Suzie   3        7.0         7      left   1.000000 -0.796628\n",
       "5          John   6        7.0         9      left   0.777778 -0.796628\n",
       "6        Thomas   7        6.5         3      left   2.166667 -0.973656\n",
       "11         Alan  12       13.0         6      left   2.166667  1.327713\n",
       "0         Sally   1       12.5        10     right   1.250000  1.150684\n",
       "1          Jane   2       13.5         1     right  13.500000  1.504741\n",
       "3         Billy   4        6.5         2     right   3.250000 -0.973656\n",
       "4           Ada   5        7.5         8     right   0.937500 -0.619599\n",
       "7         Marie   8        6.0         3     right   2.000000 -1.150684\n",
       "8        Albert   9       10.0         5     right   2.000000  0.265543\n",
       "9       Richard  10       10.0         4     right   2.500000  0.265543\n",
       "10        Isaac  11       11.5         7     right   1.642857  0.796628"
      ]
     },
     "execution_count": 23,
     "metadata": {},
     "output_type": "execute_result"
    }
   ],
   "source": [
    "students.sort_values(by='id').sort_values(by='room_side')"
   ]
  },
  {
   "cell_type": "markdown",
   "metadata": {},
   "source": [
    "4) Find the number of students on each side of the classroom"
   ]
  },
  {
   "cell_type": "code",
   "execution_count": 61,
   "metadata": {},
   "outputs": [
    {
     "data": {
      "text/plain": [
       "room_side\n",
       "left     4\n",
       "right    8\n",
       "Name: id, dtype: int64"
      ]
     },
     "execution_count": 61,
     "metadata": {},
     "output_type": "execute_result"
    }
   ],
   "source": [
    "side_count = students.groupby('room_side')['id'].count()\n",
    "side_count"
   ]
  },
  {
   "cell_type": "markdown",
   "metadata": {},
   "source": [
    "5) Find the average shoe size for each side of the classroom"
   ]
  },
  {
   "cell_type": "code",
   "execution_count": 32,
   "metadata": {},
   "outputs": [
    {
     "data": {
      "text/html": [
       "<div>\n",
       "<style scoped>\n",
       "    .dataframe tbody tr th:only-of-type {\n",
       "        vertical-align: middle;\n",
       "    }\n",
       "\n",
       "    .dataframe tbody tr th {\n",
       "        vertical-align: top;\n",
       "    }\n",
       "\n",
       "    .dataframe thead th {\n",
       "        text-align: right;\n",
       "    }\n",
       "</style>\n",
       "<table border=\"1\" class=\"dataframe\">\n",
       "  <thead>\n",
       "    <tr style=\"text-align: right;\">\n",
       "      <th></th>\n",
       "      <th>shoe_size</th>\n",
       "    </tr>\n",
       "    <tr>\n",
       "      <th>room_side</th>\n",
       "      <th></th>\n",
       "    </tr>\n",
       "  </thead>\n",
       "  <tbody>\n",
       "    <tr>\n",
       "      <th>left</th>\n",
       "      <td>8.3750</td>\n",
       "    </tr>\n",
       "    <tr>\n",
       "      <th>right</th>\n",
       "      <td>9.6875</td>\n",
       "    </tr>\n",
       "  </tbody>\n",
       "</table>\n",
       "</div>"
      ],
      "text/plain": [
       "           shoe_size\n",
       "room_side           \n",
       "left          8.3750\n",
       "right         9.6875"
      ]
     },
     "execution_count": 32,
     "metadata": {},
     "output_type": "execute_result"
    }
   ],
   "source": [
    "students[['room_side', 'shoe_size']].groupby('room_side').mean()"
   ]
  },
  {
   "cell_type": "markdown",
   "metadata": {},
   "source": [
    "6) Find the maximum favorite number for each side of the classroom"
   ]
  },
  {
   "cell_type": "code",
   "execution_count": 34,
   "metadata": {},
   "outputs": [
    {
     "data": {
      "text/html": [
       "<div>\n",
       "<style scoped>\n",
       "    .dataframe tbody tr th:only-of-type {\n",
       "        vertical-align: middle;\n",
       "    }\n",
       "\n",
       "    .dataframe tbody tr th {\n",
       "        vertical-align: top;\n",
       "    }\n",
       "\n",
       "    .dataframe thead th {\n",
       "        text-align: right;\n",
       "    }\n",
       "</style>\n",
       "<table border=\"1\" class=\"dataframe\">\n",
       "  <thead>\n",
       "    <tr style=\"text-align: right;\">\n",
       "      <th></th>\n",
       "      <th>fave_num</th>\n",
       "    </tr>\n",
       "    <tr>\n",
       "      <th>room_side</th>\n",
       "      <th></th>\n",
       "    </tr>\n",
       "  </thead>\n",
       "  <tbody>\n",
       "    <tr>\n",
       "      <th>left</th>\n",
       "      <td>9</td>\n",
       "    </tr>\n",
       "    <tr>\n",
       "      <th>right</th>\n",
       "      <td>10</td>\n",
       "    </tr>\n",
       "  </tbody>\n",
       "</table>\n",
       "</div>"
      ],
      "text/plain": [
       "           fave_num\n",
       "room_side          \n",
       "left              9\n",
       "right            10"
      ]
     },
     "execution_count": 34,
     "metadata": {},
     "output_type": "execute_result"
    }
   ],
   "source": [
    "students[['room_side', 'fave_num']].groupby('room_side').max()"
   ]
  },
  {
   "cell_type": "markdown",
   "metadata": {},
   "source": [
    "7) Create a pie chart that visualizes the number of students on each side of the classroom."
   ]
  },
  {
   "cell_type": "code",
   "execution_count": 45,
   "metadata": {},
   "outputs": [],
   "source": [
    "%matplotlib inline\n",
    "import matplotlib.pyplot as plt"
   ]
  },
  {
   "cell_type": "code",
   "execution_count": 65,
   "metadata": {},
   "outputs": [
    {
     "data": {
      "text/plain": [
       "Text(0.5, 1.0, 'Number of students on each side')"
      ]
     },
     "execution_count": 65,
     "metadata": {},
     "output_type": "execute_result"
    },
    {
     "data": {
      "image/png": "[encoded data removed]",
      "text/plain": [
       "<Figure size 432x288 with 1 Axes>"
      ]
     },
     "metadata": {},
     "output_type": "display_data"
    }
   ],
   "source": [
    "side_count.plot.pie()\n",
    "plt.ylabel('')\n",
    "plt.title('Number of students on each side')"
   ]
  },
  {
   "cell_type": "markdown",
   "metadata": {},
   "source": [
    "8) Create a histogram of the shoe sizes in the classroom"
   ]
  },
  {
   "cell_type": "code",
   "execution_count": 54,
   "metadata": {},
   "outputs": [
    {
     "data": {
      "text/plain": [
       "Text(0.5, 0, 'shoe_size')"
      ]
     },
     "execution_count": 54,
     "metadata": {},
     "output_type": "execute_result"
    },
    {
     "data": {
      "image/png": "[encoded data removed]",
      "text/plain": [
       "<Figure size 432x288 with 1 Axes>"
      ]
     },
     "metadata": {
      "needs_background": "light"
     },
     "output_type": "display_data"
    }
   ],
   "source": [
    "students.shoe_size.plot.hist()\n",
    "plt.xlabel('shoe_size')"
   ]
  },
  {
   "cell_type": "markdown",
   "metadata": {},
   "source": [
    "9) Create a histogram of the favorite numbers in the classroom"
   ]
  },
  {
   "cell_type": "code",
   "execution_count": 56,
   "metadata": {},
   "outputs": [
    {
     "data": {
      "text/plain": [
       "Text(0.5, 0, 'favorite numbers')"
      ]
     },
     "execution_count": 56,
     "metadata": {},
     "output_type": "execute_result"
    },
    {
     "data": {
      "image/png": "[encoded data removed]",
      "text/plain": [
       "<Figure size 432x288 with 1 Axes>"
      ]
     },
     "metadata": {
      "needs_background": "light"
     },
     "output_type": "display_data"
    }
   ],
   "source": [
    "students.fave_num.plot.hist()\n",
    "plt.xlabel('favorite numbers')"
   ]
  },
  {
   "cell_type": "markdown",
   "metadata": {},
   "source": [
    "10) Create a scatter plot of shoe size vs favorite number"
   ]
  },
  {
   "cell_type": "code",
   "execution_count": 57,
   "metadata": {},
   "outputs": [
    {
     "data": {
      "text/plain": [
       "<matplotlib.axes._subplots.AxesSubplot at 0x11c53cd30>"
      ]
     },
     "execution_count": 57,
     "metadata": {},
     "output_type": "execute_result"
    },
    {
     "data": {
      "image/png": "[encoded data removed]",
      "text/plain": [
       "<Figure size 432x288 with 1 Axes>"
      ]
     },
     "metadata": {
      "needs_background": "light"
     },
     "output_type": "display_data"
    }
   ],
   "source": [
    "students.plot.scatter('shoe_size', 'fave_num')"
   ]
  },
  {
   "cell_type": "markdown",
   "metadata": {},
   "source": [
    "# Reading & Writing Data"
   ]
  },
  {
   "cell_type": "markdown",
   "metadata": {},
   "source": [
    "1) Save the students data to a csv file"
   ]
  }
 ],
 "metadata": {
  "kernelspec": {
   "display_name": "Python 3",
   "language": "python",
   "name": "python3"
  },
  "language_info": {
   "codemirror_mode": {
    "name": "ipython",
    "version": 3
   },
   "file_extension": ".py",
   "mimetype": "text/x-python",
   "name": "python",
   "nbconvert_exporter": "python",
   "pygments_lexer": "ipython3",
   "version": "3.7.1"
  }
 },
 "nbformat": 4,
 "nbformat_minor": 2
}
